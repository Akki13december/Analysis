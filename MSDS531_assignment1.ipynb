{
 "cells": [
  {
   "cell_type": "markdown",
   "id": "444df257",
   "metadata": {},
   "source": [
    "## Importing some basic Python Libraries"
   ]
  },
  {
   "cell_type": "code",
   "execution_count": 817,
   "id": "33b81013",
   "metadata": {},
   "outputs": [],
   "source": [
    "import pandas as pd\n",
    "import seaborn as sns\n",
    "import matplotlib.pyplot as plt\n",
    "import numpy as np\n",
    "import statistics\n",
    "from numpy import percentile\n",
    "from numpy.random import rand"
   ]
  },
  {
   "cell_type": "markdown",
   "id": "895000e4",
   "metadata": {},
   "source": [
    "## Question-1)  The student directory for a large university has 400 pages with 130 names per page, a total of 52,000 names. Using software, show how to select a simple random sample of 10 names."
   ]
  },
  {
   "cell_type": "code",
   "execution_count": 818,
   "id": "a4b790c2",
   "metadata": {},
   "outputs": [
    {
     "name": "stdout",
     "output_type": "stream",
     "text": [
      "['name41301', 'name45325', 'name3883', 'name12433', 'name14653', 'name23551', 'name21032', 'name19568', 'name17642', 'name13586']\n"
     ]
    }
   ],
   "source": [
    "import random\n",
    "\n",
    "# Create a list of all names\n",
    "names = []\n",
    "for page in range(400):\n",
    "    for name in range(130):\n",
    "        names.append(\"name\"+str(page*130+name))\n",
    "\n",
    "# Select a simple random sample of 10 names\n",
    "sample = random.sample(names, 10)\n",
    "print(sample)"
   ]
  },
  {
   "cell_type": "markdown",
   "id": "4d1554f0",
   "metadata": {},
   "source": [
    "## Question-2) From the Murder data file, use the variable murder, which is the murder rate (per 100,000 population) for each state in the U.S. in 2017 according to the FBI Uniform Crime Reports. At first, do not use the observation for D.C. (DC). Using software:"
   ]
  },
  {
   "cell_type": "code",
   "execution_count": 819,
   "id": "f75200cf",
   "metadata": {},
   "outputs": [],
   "source": [
    "# Importing dataset for Question-2\n",
    "murder = pd.read_excel('murder_data.xlsx')\n",
    "# removing DC observation from the data\n",
    "murder.drop(50,axis=0,inplace=True)"
   ]
  },
  {
   "cell_type": "markdown",
   "id": "d196d7f9",
   "metadata": {},
   "source": [
    "### a) Find the mean and standard deviation and interpret their values."
   ]
  },
  {
   "cell_type": "code",
   "execution_count": 820,
   "id": "bad21587",
   "metadata": {},
   "outputs": [
    {
     "data": {
      "text/plain": [
       "4.8740000000000006"
      ]
     },
     "execution_count": 820,
     "metadata": {},
     "output_type": "execute_result"
    }
   ],
   "source": [
    "#calculating mean\n",
    "Mean_data = murder[\"Murder\"].mean()\n",
    "Mean_data"
   ]
  },
  {
   "cell_type": "code",
   "execution_count": 821,
   "id": "c640574c",
   "metadata": {},
   "outputs": [
    {
     "name": "stdout",
     "output_type": "stream",
     "text": [
      "4.85\n"
     ]
    }
   ],
   "source": [
    "# Calculating median\n",
    "print(statistics.median(murder[\"Murder\"]))"
   ]
  },
  {
   "cell_type": "code",
   "execution_count": 822,
   "id": "6faf3c2a",
   "metadata": {},
   "outputs": [
    {
     "data": {
      "text/plain": [
       "2.586291174793806"
      ]
     },
     "execution_count": 822,
     "metadata": {},
     "output_type": "execute_result"
    }
   ],
   "source": [
    "#Calculating Standard Deviation\n",
    "murder['Murder'].std()"
   ]
  },
  {
   "cell_type": "markdown",
   "id": "2ee0ce03",
   "metadata": {},
   "source": [
    "### b) Find the five-number summary, and construct the corresponding boxplot."
   ]
  },
  {
   "cell_type": "code",
   "execution_count": 823,
   "id": "ac3256a1",
   "metadata": {},
   "outputs": [
    {
     "name": "stdout",
     "output_type": "stream",
     "text": [
      "Min: 1.000\n",
      "Q1: 2.625\n",
      "Median: 4.850\n",
      "Q3: 6.175\n",
      "Max: 12.400\n"
     ]
    }
   ],
   "source": [
    "# five number summary without DC observation\n",
    "quartiles = percentile(murder[\"Murder\"], [25, 50, 75])\n",
    "data_min, data_max = murder[\"Murder\"].min(), murder[\"Murder\"].max()\n",
    "print('Min: %.3f' % data_min)\n",
    "print('Q1: %.3f' % quartiles[0])\n",
    "print('Median: %.3f' % quartiles[1])\n",
    "print('Q3: %.3f' % quartiles[2])\n",
    "print('Max: %.3f' % data_max)"
   ]
  },
  {
   "cell_type": "code",
   "execution_count": 824,
   "id": "7b823e13",
   "metadata": {},
   "outputs": [],
   "source": [
    "murder_rate = murder['Murder']"
   ]
  },
  {
   "cell_type": "code",
   "execution_count": 825,
   "id": "effed758",
   "metadata": {},
   "outputs": [
    {
     "data": {
      "text/plain": [
       "<AxesSubplot:>"
      ]
     },
     "execution_count": 825,
     "metadata": {},
     "output_type": "execute_result"
    },
    {
     "data": {
      "image/png": "[encoded data removed]",
      "text/plain": [
       "<Figure size 640x480 with 1 Axes>"
      ]
     },
     "metadata": {},
     "output_type": "display_data"
    }
   ],
   "source": [
    "#creating boxplot\n",
    "import seaborn as sns\n",
    "summary = murder_rate.describe()\n",
    "sns.boxplot(data=murder_rate)"
   ]
  },
  {
   "cell_type": "markdown",
   "id": "28d25850",
   "metadata": {},
   "source": [
    "### c) Now include the observation for D.C. What is affected more by this outlier: The mean or the median?"
   ]
  },
  {
   "cell_type": "code",
   "execution_count": 826,
   "id": "bc4dd237",
   "metadata": {},
   "outputs": [],
   "source": [
    "# importing data including DC\n",
    "murder = pd.read_excel('murder_data.xlsx')"
   ]
  },
  {
   "cell_type": "code",
   "execution_count": 827,
   "id": "a18ccbfc",
   "metadata": {},
   "outputs": [
    {
     "name": "stdout",
     "output_type": "stream",
     "text": [
      "Min: 1.000\n",
      "Q1: 2.650\n",
      "Median: 5.000\n",
      "Q3: 6.450\n",
      "Max: 24.200\n"
     ]
    }
   ],
   "source": [
    "# five number summary with DC observation\n",
    "quartiles = percentile(murder[\"Murder\"], [25, 50, 75])\n",
    "data_min, data_max = murder[\"Murder\"].min(), murder[\"Murder\"].max()\n",
    "print('Min: %.3f' % data_min)\n",
    "print('Q1: %.3f' % quartiles[0])\n",
    "print('Median: %.3f' % quartiles[1])\n",
    "print('Q3: %.3f' % quartiles[2])\n",
    "print('Max: %.3f' % data_max)"
   ]
  },
  {
   "cell_type": "code",
   "execution_count": 828,
   "id": "b6905f06",
   "metadata": {},
   "outputs": [
    {
     "name": "stdout",
     "output_type": "stream",
     "text": [
      "5.0\n"
     ]
    }
   ],
   "source": [
    "# calculating median\n",
    "print(statistics.median(murder[\"Murder\"]))"
   ]
  },
  {
   "cell_type": "code",
   "execution_count": 829,
   "id": "b7f0e65b",
   "metadata": {},
   "outputs": [
    {
     "data": {
      "text/plain": [
       "5.252941176470589"
      ]
     },
     "execution_count": 829,
     "metadata": {},
     "output_type": "execute_result"
    }
   ],
   "source": [
    "# calculating mean\n",
    "Mean_data = murder[\"Murder\"].mean()\n",
    "Mean_data"
   ]
  },
  {
   "cell_type": "markdown",
   "id": "874da621",
   "metadata": {},
   "source": [
    "## Question-3 The Houses data file lists the selling price (thousands of dollars), size (square feet), tax bill (dollars), number of bathrooms, number of bedrooms, and whether the house is new (1 = yes,0 = no) for 100 home sales in Gainesville, Florida. Let’s analyze the selling prices."
   ]
  },
  {
   "cell_type": "code",
   "execution_count": 830,
   "id": "81f3d473",
   "metadata": {},
   "outputs": [],
   "source": [
    "## Importing dataset for Question-3\n",
    "Houses = pd.read_excel('houses_data.xlsx')"
   ]
  },
  {
   "cell_type": "markdown",
   "id": "7393cdfd",
   "metadata": {},
   "source": [
    "### a) Construct a frequency distribution and a histogram."
   ]
  },
  {
   "cell_type": "code",
   "execution_count": 831,
   "id": "b04fa2e9",
   "metadata": {},
   "outputs": [
    {
     "data": {
      "image/png": "[encoded data removed]",
      "text/plain": [
       "<Figure size 640x480 with 1 Axes>"
      ]
     },
     "metadata": {},
     "output_type": "display_data"
    },
    {
     "data": {
      "text/plain": [
       "<AxesSubplot:>"
      ]
     },
     "execution_count": 831,
     "metadata": {},
     "output_type": "execute_result"
    },
    {
     "data": {
      "image/png": "[encoded data removed]",
      "text/plain": [
       "<Figure size 640x480 with 1 Axes>"
      ]
     },
     "metadata": {},
     "output_type": "display_data"
    }
   ],
   "source": [
    "bins = np.linspace(min(Houses['price']), max(Houses['price']), 10)\n",
    "\n",
    "# Plot the frequency distribution using hist() method\n",
    "plt.hist(Houses['price'], bins=bins, alpha=0.5)\n",
    "\n",
    "# Add labels to the x and y axes\n",
    "plt.xlabel('Selling Prices')\n",
    "plt.ylabel('Frequency')\n",
    "\n",
    "# Add a title to the histogram\n",
    "plt.title('Frequency Distribution of Selling Prices')\n",
    "\n",
    "# Display the histogram\n",
    "plt.show()\n",
    "\n",
    "Houses['price_bin'] = pd.cut(Houses['price'], bins=bins)\n",
    "counts = Houses['price_bin'].value_counts()\n",
    "counts.sort_index().plot(kind='bar')\n"
   ]
  },
  {
   "cell_type": "code",
   "execution_count": 832,
   "id": "64def81e",
   "metadata": {},
   "outputs": [
    {
     "data": {
      "text/plain": [
       "<AxesSubplot:ylabel='Frequency'>"
      ]
     },
     "execution_count": 832,
     "metadata": {},
     "output_type": "execute_result"
    },
    {
     "data": {
      "image/png": "[encoded data removed]",
      "text/plain": [
       "<Figure size 640x480 with 1 Axes>"
      ]
     },
     "metadata": {},
     "output_type": "display_data"
    }
   ],
   "source": [
    "# creating histogram\n",
    "Houses['price'].plot(kind='hist', edgecolor='black')"
   ]
  },
  {
   "cell_type": "code",
   "execution_count": 833,
   "id": "340716c8",
   "metadata": {},
   "outputs": [],
   "source": [
    "mean_price = Houses['price'].mean()\n",
    "std_price = Houses['price'].std()"
   ]
  },
  {
   "cell_type": "code",
   "execution_count": 834,
   "id": "ca174c5a",
   "metadata": {},
   "outputs": [
    {
     "data": {
      "text/plain": [
       "232.99649999999994"
      ]
     },
     "execution_count": 834,
     "metadata": {},
     "output_type": "execute_result"
    }
   ],
   "source": [
    "mean_price"
   ]
  },
  {
   "cell_type": "code",
   "execution_count": 835,
   "id": "6910405f",
   "metadata": {},
   "outputs": [
    {
     "data": {
      "text/plain": [
       "151.89331886527822"
      ]
     },
     "execution_count": 835,
     "metadata": {},
     "output_type": "execute_result"
    }
   ],
   "source": [
    "std_price"
   ]
  },
  {
   "cell_type": "code",
   "execution_count": 836,
   "id": "8578c775",
   "metadata": {},
   "outputs": [
    {
     "data": {
      "text/plain": [
       "81.10318113472172"
      ]
     },
     "execution_count": 836,
     "metadata": {},
     "output_type": "execute_result"
    }
   ],
   "source": [
    "lower_bound = mean_price - std_price\n",
    "lower_bound"
   ]
  },
  {
   "cell_type": "code",
   "execution_count": 837,
   "id": "c171d624",
   "metadata": {},
   "outputs": [
    {
     "data": {
      "text/plain": [
       "384.88981886527813"
      ]
     },
     "execution_count": 837,
     "metadata": {},
     "output_type": "execute_result"
    }
   ],
   "source": [
    "upper_bound = mean_price + std_price\n",
    "upper_bound"
   ]
  },
  {
   "cell_type": "code",
   "execution_count": 838,
   "id": "f133576e",
   "metadata": {},
   "outputs": [
    {
     "data": {
      "text/plain": [
       "85"
      ]
     },
     "execution_count": 838,
     "metadata": {},
     "output_type": "execute_result"
    }
   ],
   "source": [
    "num_within_range = Houses.loc[(Houses['price'] >= lower_bound) & (Houses['price'] <= upper_bound)].shape[0]\n",
    "percentage = num_within_range / Houses.shape[0]\n",
    "num_within_range"
   ]
  },
  {
   "cell_type": "code",
   "execution_count": 839,
   "id": "aee587fa",
   "metadata": {},
   "outputs": [
    {
     "name": "stdout",
     "output_type": "stream",
     "text": [
      "Percentage of observations within one standard deviation of the mean:  0.85\n"
     ]
    }
   ],
   "source": [
    "# calculating \n",
    "print(\"Percentage of observations within one standard deviation of the mean: \", percentage)"
   ]
  },
  {
   "cell_type": "code",
   "execution_count": 841,
   "id": "0749adf9",
   "metadata": {},
   "outputs": [
    {
     "name": "stderr",
     "output_type": "stream",
     "text": [
      "/Users/shanijeet/opt/anaconda3/lib/python3.9/site-packages/seaborn/_decorators.py:36: FutureWarning: Pass the following variable as a keyword arg: x. From version 0.12, the only valid positional argument will be `data`, and passing other arguments without an explicit keyword will result in an error or misinterpretation.\n",
      "  warnings.warn(\n"
     ]
    },
    {
     "data": {
      "image/png": "[encoded data removed]",
      "text/plain": [
       "<Figure size 640x480 with 1 Axes>"
      ]
     },
     "metadata": {},
     "output_type": "display_data"
    }
   ],
   "source": [
    "#creating boxplot\n",
    "import seaborn as sns\n",
    "sns.boxplot(Houses[\"price\"])\n",
    "plt.title('Boxplot of Selling Prices')\n",
    "plt.show()"
   ]
  },
  {
   "cell_type": "code",
   "execution_count": null,
   "id": "293619b7",
   "metadata": {},
   "outputs": [],
   "source": []
  },
  {
   "cell_type": "code",
   "execution_count": null,
   "id": "7484a059",
   "metadata": {},
   "outputs": [],
   "source": []
  },
  {
   "cell_type": "code",
   "execution_count": null,
   "id": "caa6f396",
   "metadata": {},
   "outputs": [],
   "source": []
  }
 ],
 "metadata": {
  "kernelspec": {
   "display_name": "Python 3 (ipykernel)",
   "language": "python",
   "name": "python3"
  },
  "language_info": {
   "codemirror_mode": {
    "name": "ipython",
    "version": 3
   },
   "file_extension": ".py",
   "mimetype": "text/x-python",
   "name": "python",
   "nbconvert_exporter": "python",
   "pygments_lexer": "ipython3",
   "version": "3.9.13"
  }
 },
 "nbformat": 4,
 "nbformat_minor": 5
}
